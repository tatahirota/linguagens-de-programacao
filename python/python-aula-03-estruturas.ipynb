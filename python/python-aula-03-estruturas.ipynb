{
 "cells": [
  {
   "metadata": {},
   "cell_type": "markdown",
   "source": "# **PYTHON-AULA 03- ESTRUTURAS**",
   "id": "8a77807f92f26ee"
  },
  {
   "metadata": {},
   "cell_type": "markdown",
   "source": "**Feito por THAIANNA ;)**",
   "id": "a29dfd4a76e8f585"
  },
  {
   "metadata": {},
   "cell_type": "markdown",
   "source": "# **1- ESTRUTURAS CONDICIONAIS**",
   "id": "84dd0c928cccdd2b"
  },
  {
   "metadata": {},
   "cell_type": "markdown",
   "source": [
    "São comandos utilizados para tomar decisões. E servem para verificar condições, seja elas **true** ou **false**.\n",
    "Os tipos de estruturas condicionais são: **if**, **else** e **elif**.\n",
    "As ações dos comandos serão executadas de acordo com o resultado das condições impostas.\n",
    "\n",
    "Exemplo:\n",
    "\"Se isso acontecer, faça isso. Se não, faça outra coisa.\"\n",
    "Basicamente é isso que acontece nas estruturas condicionais em Python.\n",
    "\n",
    "\n"
   ],
   "id": "e671b5da68b96e06"
  },
  {
   "metadata": {},
   "cell_type": "markdown",
   "source": "### **1.1- IF**",
   "id": "3ade94baf01debd9"
  },
  {
   "metadata": {},
   "cell_type": "markdown",
   "source": [
    "Significa \"SE\", basicamente.\n",
    "A condição é verdadeira.\n",
    "Ela age: \"Se a condição for verdadeira, faça algo.\""
   ],
   "id": "a5ae60e8d8bc94eb"
  },
  {
   "metadata": {},
   "cell_type": "code",
   "source": [
    "#### EXEMPLO ####\n",
    "idade= 20\n",
    "\n",
    "if idade >= 18:  # tem que ter dois pontos no final das estruturas.\n",
    "    print (\"Você é maior de idade! Já pode tirar a carteira de motorista.\")\n",
    "    # só vai imprimir se a variável idade for maior ou igual a 18. #"
   ],
   "id": "8aec2f65c92aea5c",
   "outputs": [],
   "execution_count": null
  },
  {
   "metadata": {},
   "cell_type": "code",
   "source": [
    "#### EXEMPLO ####\n",
    "jogar= True\n",
    "\n",
    "if jogar == True:\n",
    "    print (\"Eu ganhei na Mega Sena!\")\n",
    "    # só vai imprimir se a variável for true. se for false, é porque não joguei então, não ganhei, logo, não vai imprimir."
   ],
   "id": "5313b2cf7f875570",
   "outputs": [],
   "execution_count": null
  },
  {
   "metadata": {},
   "cell_type": "markdown",
   "source": "### **1.2- ELSE**",
   "id": "b2ee6064d0eba9be"
  },
  {
   "metadata": {},
   "cell_type": "markdown",
   "source": [
    "Significa \"SENÃO\", basicamente.\n",
    "Ela age: \"Se a variável não se encaixar na condição anterior, então faremos isso\"."
   ],
   "id": "423d120f9f19e125"
  },
  {
   "metadata": {},
   "cell_type": "code",
   "source": [
    "#### EXEMPLO ####\n",
    "idade= 15\n",
    "\n",
    "if idade >= 18:\n",
    "    print (\"Você é maior de idade! Já pode tirar a carteira de motorista!\")\n",
    "else: # após as condicionais, não esqueça dos dois pontos. #\n",
    "    print (\"Você ainda é menor de idade! Até o momento, só poderá utilizar bicicleta.\")"
   ],
   "id": "56c88c9a213c6dbe",
   "outputs": [],
   "execution_count": null
  },
  {
   "metadata": {},
   "cell_type": "code",
   "source": [
    "#### EXEMPLO ####\n",
    "jogar= False\n",
    "\n",
    "if jogar == True:\n",
    "    print (\"Eu ganhei na Mega Sena!\")\n",
    "    # só vai imprimir se a variável for true. se for false, é porque não joguei então, não ganhei, logo, não vai imprimir.\n",
    "else: # após as condicionais, não esqueça dos dois pontos. #\n",
    "    print (\"Não joguei, por isso não ganhei.\")"
   ],
   "id": "cfc5fe1506d6a327",
   "outputs": [],
   "execution_count": null
  },
  {
   "metadata": {},
   "cell_type": "markdown",
   "source": "### **1.3- ELIF**",
   "id": "21680e63069de678"
  },
  {
   "metadata": {},
   "cell_type": "markdown",
   "source": [
    "Significa \"ENTÃO\", basicamente.\n",
    "Ela age: \"Se na condição anterior não for verdadeira, então, faça isso.\"\n",
    "**ESSA CONDIÇÃO FICA ANTERIORMENTE A CONDIÇÃO \"ELSE\".**"
   ],
   "id": "24174ef3efa500af"
  },
  {
   "metadata": {
    "ExecuteTime": {
     "end_time": "2025-08-04T01:46:02.933673Z",
     "start_time": "2025-08-04T01:46:02.929675Z"
    }
   },
   "cell_type": "code",
   "source": [
    "#### EXEMPLOS ####\n",
    "nota = 6\n",
    "\n",
    "if nota >= 7:\n",
    "    print(\"Aprovado\")\n",
    "elif nota >= 5:\n",
    "    print(\"Recuperação\")\n",
    "else:\n",
    "    print(\"Reprovado\")\n"
   ],
   "id": "60160edaeb4bbd",
   "outputs": [
    {
     "name": "stdout",
     "output_type": "stream",
     "text": [
      "Recuperação\n"
     ]
    }
   ],
   "execution_count": 11
  },
  {
   "metadata": {},
   "cell_type": "markdown",
   "source": [
    "**RESUMO**\n",
    "\n",
    "if condição1:\n",
    "    # se for verdadeira, executa aqui\n",
    "elif condição2:\n",
    "    # se a de cima for falsa, e essa for verdadeira, executa aqui\n",
    "else:\n",
    "    # se nenhuma das condições for verdadeira, executa aqui\n"
   ],
   "id": "eb0518a898eaae76"
  },
  {
   "metadata": {},
   "cell_type": "markdown",
   "source": "# **2- ESTRUTURAS DE REPETIÇÃO / LAÇOS DE REPETIÇÃO**",
   "id": "20468ebcdd40fdaf"
  },
  {
   "metadata": {},
   "cell_type": "markdown",
   "source": [
    "São comandos que fazem o Python repetir uma ação várias vezes, automaticamente.\n",
    "Servem para evitar repetir o código manualmente.\n",
    "\n",
    "Exemplo:\n",
    "print(\"Olá\")\n",
    "print(\"Olá\")\n",
    "print(\"Olá\")\n",
    "\n",
    "Existem duas principais estruturas de repetição em Python: **for** e **while**.\n",
    "\n"
   ],
   "id": "58c243a4a29d535e"
  },
  {
   "metadata": {},
   "cell_type": "markdown",
   "source": "### **2.1- FOR**",
   "id": "bf64bd3ed58fe527"
  },
  {
   "metadata": {},
   "cell_type": "markdown",
   "source": "É utilizado quando você sabe quantas vezes quer repetir.",
   "id": "f6593446fbc93593"
  },
  {
   "metadata": {
    "ExecuteTime": {
     "end_time": "2025-08-04T09:26:47.734073Z",
     "start_time": "2025-08-04T09:26:47.725340Z"
    }
   },
   "cell_type": "code",
   "source": [
    "#### EXEMPLO ####\n",
    "## VARIÁVEL ##\n",
    "contagem = 0\n",
    "\n",
    "for  contagem in range (5): # dois pontos ao final das estruturas #\n",
    "    print (contagem) # contou até 4 porque começ"
   ],
   "id": "8041f97aa0dbae28",
   "outputs": [
    {
     "name": "stdout",
     "output_type": "stream",
     "text": [
      "0\n",
      "1\n",
      "2\n",
      "3\n",
      "4\n"
     ]
    }
   ],
   "execution_count": 13
  },
  {
   "metadata": {
    "ExecuteTime": {
     "end_time": "2025-08-04T09:49:43.092373Z",
     "start_time": "2025-08-04T09:49:43.087369Z"
    }
   },
   "cell_type": "code",
   "source": [
    "#### EXEMPLO ####\n",
    "palavraQualquer = \"money\"\n",
    "\n",
    "for letra in palavraQualquer: # o \"range\" só serve para números #\n",
    "    print (letra)"
   ],
   "id": "9b46c81ea9d745af",
   "outputs": [
    {
     "name": "stdout",
     "output_type": "stream",
     "text": [
      "m\n",
      "o\n",
      "n\n",
      "e\n",
      "y\n"
     ]
    }
   ],
   "execution_count": 18
  },
  {
   "metadata": {
    "ExecuteTime": {
     "end_time": "2025-08-04T09:51:33.792560Z",
     "start_time": "2025-08-04T09:51:33.785459Z"
    }
   },
   "cell_type": "code",
   "source": [
    "#### EXEMPLO ####\n",
    "## VARIÁVEL ##\n",
    "alfabeto= [\"a\", \"b\", \"c\", \"d\"]\n",
    "\n",
    "for letra in alfabeto:\n",
    "    print (letra)"
   ],
   "id": "b83203939a17e290",
   "outputs": [
    {
     "name": "stdout",
     "output_type": "stream",
     "text": [
      "a\n",
      "b\n",
      "c\n",
      "d\n"
     ]
    }
   ],
   "execution_count": 19
  },
  {
   "metadata": {},
   "cell_type": "markdown",
   "source": "### **2.2- WHILE**",
   "id": "47c7759485cfaac1"
  },
  {
   "metadata": {},
   "cell_type": "markdown",
   "source": [
    "Ocorre repetição até uma condição mudar, ou seja, fica repetindo enquanto a condição for verdadeira.\n",
    "Signigica \"enquanto\", basicamente.\n",
    "\n",
    "Como ela age: \"Enquanto isso for verdade, repita o que está aqui.\"\n",
    "Pode-se ter loops dentro de loops, e é chamado de **loop aninhado**.\n",
    "Você pode pôr um **while** dentro de outro **while**."
   ],
   "id": "b4f0cc988a50c740"
  },
  {
   "metadata": {
    "ExecuteTime": {
     "end_time": "2025-08-04T11:32:15.223877Z",
     "start_time": "2025-08-04T11:32:15.218542Z"
    }
   },
   "cell_type": "code",
   "source": [
    "#### EXEMPLO ####\n",
    "## VARIÁEL ###\n",
    "contador= 0\n",
    "\n",
    "while contador <= 3:\n",
    "    print (contador)\n",
    "    contador += 1 # coloquei de quanto em quantos números quero que ele avance na contagem #\n",
    "                  # se não colocar nada no contador +=1, ele vai ficar em zero eternamente #"
   ],
   "id": "2d73744ac23739ce",
   "outputs": [
    {
     "name": "stdout",
     "output_type": "stream",
     "text": [
      "0\n",
      "1\n",
      "2\n",
      "3\n"
     ]
    }
   ],
   "execution_count": 22
  },
  {
   "metadata": {},
   "cell_type": "markdown",
   "source": "#### **2.2.1- WHILE DENTRO DE OUTRO WHILE (LOOP ANINHADO)**",
   "id": "163e022703a83e5a"
  },
  {
   "metadata": {
    "ExecuteTime": {
     "end_time": "2025-08-04T11:50:07.387430Z",
     "start_time": "2025-08-04T11:50:07.378991Z"
    }
   },
   "cell_type": "code",
   "source": [
    "#### EXEMPLO ####\n",
    "## VARIÁVEL ##\n",
    "linha= 1 # se mudar pra 2, vai começar a contar a partir da linha 2, farei isso no exemplo abaixo.\n",
    "\n",
    "while linha <= 3:  #enquanto a linha for menor ou igual a 3 #\n",
    "    coluna= 1      # coluna valerá 1 #\n",
    "    while coluna <= 3: #enquanto a coluna for menor ou igual a 3 #\n",
    "        print (f\"A linha {linha} e a Coluna {coluna}\") # imprima isso #\n",
    "        coluna += 1 # somar 1 coluna até chegar ao 3 porque corresponde a coluna <= 3 #\n",
    "    linha += 1  # está dentro do primeiro while, então vai somando a linha nele #"
   ],
   "id": "208e6723cce13ab",
   "outputs": [
    {
     "name": "stdout",
     "output_type": "stream",
     "text": [
      "A linha 1 e a Coluna 1\n",
      "A linha 1 e a Coluna 2\n",
      "A linha 1 e a Coluna 3\n",
      "A linha 2 e a Coluna 1\n",
      "A linha 2 e a Coluna 2\n",
      "A linha 2 e a Coluna 3\n",
      "A linha 3 e a Coluna 1\n",
      "A linha 3 e a Coluna 2\n",
      "A linha 3 e a Coluna 3\n"
     ]
    }
   ],
   "execution_count": 41
  },
  {
   "metadata": {
    "ExecuteTime": {
     "end_time": "2025-08-04T11:50:25.299174Z",
     "start_time": "2025-08-04T11:50:25.294460Z"
    }
   },
   "cell_type": "code",
   "source": [
    "#### EXEMPLO ####\n",
    "## VARIÁVEL ##\n",
    "linha= 2 # se mudar pra 2, vai começar a contar a partir da linha 2. #\n",
    "\n",
    "while linha <= 3:  #enquanto a linha for menor ou igual a 3 #\n",
    "    coluna= 1      # coluna valerá 1 #\n",
    "    while coluna <= 3: #enquanto a coluna for menor ou igual a 3 #\n",
    "        print (f\"A linha {linha} e a Coluna {coluna}\") # imprima isso #\n",
    "        coluna += 1 # somar 1 coluna até chegar ao 3 porque corresponde a coluna <= 3 #\n",
    "    linha += 1  # está dentro do primeiro while, então vai somando a linha nele #"
   ],
   "id": "9e4fb4c8667f74e2",
   "outputs": [
    {
     "name": "stdout",
     "output_type": "stream",
     "text": [
      "A linha 2 e a Coluna 1\n",
      "A linha 2 e a Coluna 2\n",
      "A linha 2 e a Coluna 3\n",
      "A linha 3 e a Coluna 1\n",
      "A linha 3 e a Coluna 2\n",
      "A linha 3 e a Coluna 3\n"
     ]
    }
   ],
   "execution_count": 43
  },
  {
   "metadata": {
    "ExecuteTime": {
     "end_time": "2025-08-04T11:45:12.847243Z",
     "start_time": "2025-08-04T11:45:12.842404Z"
    }
   },
   "cell_type": "code",
   "source": [
    "#### EXEMPLO ####\n",
    "## VARIÁVEL ##\n",
    "linha= 1\n",
    "\n",
    "while linha <= 3:\n",
    "    coluna= 1\n",
    "    while coluna <= 3:\n",
    "        print (f\"A linha {linha} e a Coluna {coluna}\")\n",
    "        coluna += 1\n",
    "        linha += 1 # está dentro do segundo while e vai somando igual a coluna #"
   ],
   "id": "cbc816e5eef77580",
   "outputs": [
    {
     "name": "stdout",
     "output_type": "stream",
     "text": [
      "A linha 1 e a Coluna 1\n",
      "A linha 2 e a Coluna 2\n",
      "A linha 3 e a Coluna 3\n"
     ]
    }
   ],
   "execution_count": 37
  },
  {
   "metadata": {},
   "cell_type": "markdown",
   "source": "#### **2.2.2- BREAK**",
   "id": "d6e55abbe24a7d11"
  },
  {
   "metadata": {},
   "cell_type": "markdown",
   "source": [
    "Encerra o  loop imediatamente.\n",
    "O **break** fica dentro do **while**, geralmente dentro de um **if**."
   ],
   "id": "ecff5615b1b0ac1"
  },
  {
   "metadata": {
    "ExecuteTime": {
     "end_time": "2025-08-04T12:00:47.404734Z",
     "start_time": "2025-08-04T12:00:47.401194Z"
    }
   },
   "cell_type": "code",
   "source": [
    "#### EXEMPLO ####\n",
    "## VARIÁVEL ##\n",
    "numeroQualquer= 4 # começarei pelo  número 4 na contagem\n",
    "\n",
    "while numeroQualquer <= 10: # enquanto essa variável for menor ou igual a 10 #\n",
    "    if numeroQualquer == 8 : # se essa variável for igual a 8 #\n",
    "        break               # iremos parar por aqui, no caso, antes de chegar a 8 #\n",
    "    print (numeroQualquer)  # imprimir a variável somado a contagem abaixo #\n",
    "    numeroQualquer += 1     # quero que conte de um em um #\n",
    "                            # posso pôr qualquer quantidade na linha 5 (acima de 7, é claro). Se defini pra parar no ==8, vai parar antes de chegar no 8, ou seja, no 7. #"
   ],
   "id": "978aa4826e8ba99b",
   "outputs": [
    {
     "name": "stdout",
     "output_type": "stream",
     "text": [
      "4\n",
      "5\n",
      "6\n",
      "7\n"
     ]
    }
   ],
   "execution_count": 55
  },
  {
   "metadata": {
    "ExecuteTime": {
     "end_time": "2025-08-04T12:01:05.428779Z",
     "start_time": "2025-08-04T12:01:05.423697Z"
    }
   },
   "cell_type": "code",
   "source": [
    "#### EXEMPLO ####\n",
    "## VARIÁVEL ##\n",
    "numeroQualquer= 4 # começarei pelo  número 4 na contagem\n",
    "\n",
    "while numeroQualquer <= 6: # enquanto essa variável for menor ou igual a 10 #\n",
    "    if numeroQualquer == 8 : # se essa variável for igual a 8 #\n",
    "        break               # iremos parar por aqui, no caso, antes de chegar a 8 #\n",
    "    print (numeroQualquer)  # imprimir a variável somado a contagem abaixo #\n",
    "    numeroQualquer += 1     # quero que conte de um em um #\n",
    "                            # alterei o comando na linha 5 para um número menor do que o == 8 da linha 6, então, a contagem será até o máximo da linha 5, já que foi menor que o da linha 6."
   ],
   "id": "11b9c601fecb6326",
   "outputs": [
    {
     "name": "stdout",
     "output_type": "stream",
     "text": [
      "4\n",
      "5\n",
      "6\n"
     ]
    }
   ],
   "execution_count": 56
  },
  {
   "metadata": {},
   "cell_type": "markdown",
   "source": "#### **2.2.3- CONTINUE**",
   "id": "19591045052c762f"
  },
  {
   "metadata": {},
   "cell_type": "markdown",
   "source": "Interrompe a repetição atual, pula para o que vem depois dele e volta para o começo do **while** (ou **for**), para poder verificar a condição novamente.",
   "id": "c45a16a0cb2a139e"
  },
  {
   "metadata": {
    "ExecuteTime": {
     "end_time": "2025-08-04T12:35:17.806812Z",
     "start_time": "2025-08-04T12:35:17.802786Z"
    }
   },
   "cell_type": "code",
   "source": [
    "#### EXEMPLO ####\n",
    "## VARIÁVEL ##\n",
    "número= 0\n",
    "\n",
    "while número < 5: # enquanto o número for menor que 5 #\n",
    "    número += 1   # vá acrescentando número de 1 em 1 #\n",
    "    if número == 3: # se o número for igual a 3, continue #\n",
    "        continue    # sa saída não terá o número 3, porque ao chegar ali, ele volta e #\n",
    "    print (número)  # depois continua #"
   ],
   "id": "92a943dad95030cc",
   "outputs": [
    {
     "name": "stdout",
     "output_type": "stream",
     "text": [
      "1\n",
      "2\n",
      "4\n",
      "5\n"
     ]
    }
   ],
   "execution_count": 61
  },
  {
   "metadata": {},
   "cell_type": "markdown",
   "source": [
    "EXPLICAÇÃO DO CÓDIGO ACIMA:\n",
    "\n",
    "🔍 O que está acontecendo?\n",
    "1- Começa com numero = 0\n",
    "2- A cada volta, soma 1 no número.\n",
    "3- Quando chega no número 3, o continue entra em ação:\n",
    "--- Ele pula o print(numero)\n",
    "--- Volta pro começo do while\n",
    "4- Por isso o número 3 não aparece no resultado."
   ],
   "id": "cde7ca8bb8e0ee8d"
  }
 ],
 "metadata": {
  "kernelspec": {
   "display_name": "Python 3",
   "language": "python",
   "name": "python3"
  },
  "language_info": {
   "codemirror_mode": {
    "name": "ipython",
    "version": 2
   },
   "file_extension": ".py",
   "mimetype": "text/x-python",
   "name": "python",
   "nbconvert_exporter": "python",
   "pygments_lexer": "ipython2",
   "version": "2.7.6"
  }
 },
 "nbformat": 4,
 "nbformat_minor": 5
}
