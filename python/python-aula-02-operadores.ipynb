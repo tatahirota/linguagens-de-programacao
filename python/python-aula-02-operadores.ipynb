{
 "cells": [
  {
   "metadata": {},
   "cell_type": "markdown",
   "source": "# **PYTHON-AULA 02 - OPERADORES**",
   "id": "f6e67ce6ab4aa94e"
  },
  {
   "metadata": {},
   "cell_type": "markdown",
   "source": "**Feito por THAIANNA ;)**",
   "id": "a02cb5a1fcfda4bc"
  },
  {
   "metadata": {},
   "cell_type": "markdown",
   "source": "# **1- OPERADORES LÓGICOS**",
   "id": "2370449c7b11241a"
  },
  {
   "metadata": {},
   "cell_type": "markdown",
   "source": [
    "São utilizados para juntar condições, sejam verdadeiras ou falsas, e tomar decisões.\n",
    "Sempre retornarão um resultado **true** ou **false**.\n",
    "Os três principais operadores lógicos em Python são: **and**, **or** e **not**."
   ],
   "id": "7b232f0ddc858b77"
  },
  {
   "metadata": {},
   "cell_type": "markdown",
   "source": "### **1.1- AND**",
   "id": "7835d8324811cfaa"
  },
  {
   "metadata": {},
   "cell_type": "markdown",
   "source": [
    "Só será **true** se tudo for true.\n",
    "O \"AND\" equivale ao \"E\", em português.\n"
   ],
   "id": "65a80c9c71333277"
  },
  {
   "metadata": {},
   "cell_type": "code",
   "source": [
    "from operator import truediv\n",
    "\n",
    "#### EXEMPLO ####\n",
    "x= 7\n",
    "print (x > 1 and x < 8) # x maior que 1 e menor do que 8 = verdadeiro"
   ],
   "id": "2839f44aed79f291",
   "outputs": [],
   "execution_count": null
  },
  {
   "metadata": {},
   "cell_type": "code",
   "source": [
    "#### EXEMPLO ####\n",
    "x= 7\n",
    "print (x > 5 and x < 6) # x maior que 5 (true) e menor do que 6 (false), então será false #"
   ],
   "id": "420c9668a1c42efc",
   "outputs": [],
   "execution_count": null
  },
  {
   "metadata": {},
   "cell_type": "code",
   "source": [
    "#### EXEMPLO ####\n",
    "idade= 20\n",
    "temCarteira = True\n",
    "\n",
    "#### VERIFICA SE É MAIOR DE 18 E TEM CARTEIRA ####\n",
    "print (idade >= 18 and temCarteira)"
   ],
   "id": "39e513a364fa7bae",
   "outputs": [],
   "execution_count": null
  },
  {
   "metadata": {},
   "cell_type": "code",
   "source": [
    "#### EXEMPLO ####\n",
    "idade= 20\n",
    "temCarteira = False\n",
    "\n",
    "#### VERIFICA SE É MAIOR DE 18 E TEM CARTEIRA ####\n",
    "print (idade >= 18 and temCarteira)  # tem 18+ mas não tem carteira  então dá false #"
   ],
   "id": "794c3827a3cfa1d2",
   "outputs": [],
   "execution_count": null
  },
  {
   "metadata": {},
   "cell_type": "markdown",
   "source": "### **1.2- OR**",
   "id": "84fe89631a27b161"
  },
  {
   "metadata": {},
   "cell_type": "markdown",
   "source": [
    "Pelo menos, umas das condições tem que ser **true**.\n",
    "\"OR\"equivale a \"OU\", em português."
   ],
   "id": "2bb6db8d21b325a0"
  },
  {
   "metadata": {},
   "cell_type": "code",
   "source": [
    "#### EXEMPLO ####\n",
    "x= 7\n",
    "print (x > 2 or x < 3) # x maior que 2 (true) e menor que 3 (false), então dá  true #"
   ],
   "id": "678e832eca8265c7",
   "outputs": [],
   "execution_count": null
  },
  {
   "metadata": {},
   "cell_type": "code",
   "source": [
    "#### EXEMPLO ####\n",
    "x= 7\n",
    "print (x < 2 or x < 3) # x menor que 2 (false) ou x maior que 3 (false), então dá false #"
   ],
   "id": "c26189acf5dd7efc",
   "outputs": [],
   "execution_count": null
  },
  {
   "metadata": {},
   "cell_type": "code",
   "source": [
    "### EXEMPLO ####\n",
    "temFome= False\n",
    "temSede= True\n",
    "\n",
    "print (temFome or temSede)  #só será false se os dois forem false, então é true #"
   ],
   "id": "a8dc34dc558686f",
   "outputs": [],
   "execution_count": null
  },
  {
   "metadata": {},
   "cell_type": "code",
   "source": [
    "### EXEMPLO ####\n",
    "temFome= False\n",
    "temSede= False\n",
    "\n",
    "print (temFome or temSede)  #só será false se os dois forem false, então é false #"
   ],
   "id": "d981cafc6b4d5cf5",
   "outputs": [],
   "execution_count": null
  },
  {
   "metadata": {},
   "cell_type": "markdown",
   "source": "### **1.3- NOT**",
   "id": "7b6b8a7424d3f804"
  },
  {
   "metadata": {},
   "cell_type": "markdown",
   "source": [
    "Inverte o resultado lógico.\n",
    "Se for **true**, vira **false**, e vice-versa."
   ],
   "id": "9c4eb907b75f1365"
  },
  {
   "metadata": {},
   "cell_type": "code",
   "source": [
    "#### EXEMPLO ####\n",
    "x= 7\n",
    "\n",
    "print (not x > 2 ) # x maior que 2 dá true, mas ele inverteu e ficou false #"
   ],
   "id": "9a967e6098e0acdd",
   "outputs": [],
   "execution_count": null
  },
  {
   "metadata": {},
   "cell_type": "code",
   "source": [
    "#### EXEMPLO ####\n",
    "x= 7\n",
    "\n",
    "print (not x < 2) # x menor que 2 dá false, mas ele inverteu e ficou true #"
   ],
   "id": "dcd9d66be7990b90",
   "outputs": [],
   "execution_count": null
  },
  {
   "metadata": {},
   "cell_type": "code",
   "source": [
    "#### EXEMPLO ####\n",
    "estaChovendo= True\n",
    "\n",
    "print (not estaChovendo) # seria true, mas ele vai inverter e então será false #\n"
   ],
   "id": "64a88962ce339843",
   "outputs": [],
   "execution_count": null
  },
  {
   "metadata": {},
   "cell_type": "code",
   "source": [
    "#### EXEMPLO ####\n",
    "estaChovendo= False\n",
    "\n",
    "print (not estaChovendo) # seria false, mas ele vai inverter e então será true #"
   ],
   "id": "ad40cc341bda9742",
   "outputs": [],
   "execution_count": null
  },
  {
   "metadata": {},
   "cell_type": "markdown",
   "source": "# **2- OPERADORES DE IDENTIDADE**",
   "id": "489ce0a537fb9c89"
  },
  {
   "metadata": {},
   "cell_type": "markdown",
   "source": [
    "Comparam os objetos.\n",
    "Eles são: **is** e **is not**.\n",
    "Resultam apenas **true** ou **false**."
   ],
   "id": "ce10881197be6ee"
  },
  {
   "metadata": {},
   "cell_type": "markdown",
   "source": "### **2.1- IS**",
   "id": "3b4c141b205030f5"
  },
  {
   "metadata": {},
   "cell_type": "markdown",
   "source": "Significa \"é\", basicamente.",
   "id": "886be7c4cc971a52"
  },
  {
   "metadata": {},
   "cell_type": "code",
   "source": [
    "#### EXEMPLO ####\n",
    "a= [1, 2, 3]\n",
    "b= a\n",
    "\n",
    "print (a is b) # falei que b é igual a todos os valores de a, então retornou true #"
   ],
   "id": "c34a11acc10b4413",
   "outputs": [],
   "execution_count": null
  },
  {
   "metadata": {},
   "cell_type": "code",
   "source": [
    "#### EXEMPLO ####\n",
    "a= [1, 2, 3]\n",
    "b= 3\n",
    "\n",
    "print (a is b) # falei que b é igual a 3, e que a é igual a b. false porque a é 1,2,3 #"
   ],
   "id": "15aa7dc01ae89c3e",
   "outputs": [],
   "execution_count": null
  },
  {
   "metadata": {},
   "cell_type": "markdown",
   "source": "### **2.2- IS NOT**",
   "id": "8249bdb13311e8fc"
  },
  {
   "metadata": {},
   "cell_type": "markdown",
   "source": "Significa \"não é\", basicamente.",
   "id": "8af2bd88e9378053"
  },
  {
   "metadata": {},
   "cell_type": "code",
   "source": [
    "#### EXEMPLO #####\n",
    "a= [1, 2, 3]\n",
    "b= 3\n",
    "\n",
    "print (a is not b) # falei que b é igual a 3, e que a náo é igual a b. True porque a é 1,2,3 ####\n"
   ],
   "id": "91e1f11d4772852f",
   "outputs": [],
   "execution_count": null
  },
  {
   "metadata": {},
   "cell_type": "code",
   "source": [
    "### **2.1- IS**\n",
    "#### EXEMPLO ####\n",
    "a = [1, 2, 3]\n",
    "b = a\n",
    "\n",
    "print(a is not b)  # falei que b não é igual a todos os valores de a, então retornou false #"
   ],
   "id": "dea10d9be3e2c758",
   "outputs": [],
   "execution_count": null
  },
  {
   "metadata": {},
   "cell_type": "markdown",
   "source": "# **3- OPERADORES DE ASSOCIAÇÃO**",
   "id": "fbc5d9e9d9d17ede"
  },
  {
   "metadata": {},
   "cell_type": "markdown",
   "source": [
    "Verifica se algo dentro da condição está igual.\n",
    "Retorna apenas **true** ou **false**."
   ],
   "id": "e36d87945972ec91"
  },
  {
   "metadata": {},
   "cell_type": "markdown",
   "source": "### **3.1- IN**",
   "id": "38ad8ce0f94057da"
  },
  {
   "metadata": {},
   "cell_type": "markdown",
   "source": "Significa \"está em\", basicamente.",
   "id": "171fa04c9de57c40"
  },
  {
   "metadata": {},
   "cell_type": "code",
   "source": [
    "#### EXEMPLO ####\n",
    "nome= \"Lupita\"\n",
    "\n",
    "print ('a' in nome) # true porque possui a letra \"a\" na variável nome que é Lupita #"
   ],
   "id": "a0605617e041ccdc",
   "outputs": [],
   "execution_count": null
  },
  {
   "metadata": {},
   "cell_type": "code",
   "source": [
    "#### EXEMPLO ####\n",
    "x= [1, 5, 7]\n",
    "\n",
    "print ('2'in x) # false porque 2 não possui na variável \"x\"#"
   ],
   "id": "6a9a21db77cae483",
   "outputs": [],
   "execution_count": null
  },
  {
   "metadata": {},
   "cell_type": "markdown",
   "source": "### **3.2- NOT IN**",
   "id": "b735412cb444c1a9"
  },
  {
   "metadata": {},
   "cell_type": "markdown",
   "source": "Significa \"não está em\", basicamente.",
   "id": "20d4ecb059adf701"
  },
  {
   "metadata": {},
   "cell_type": "code",
   "source": [
    "#### EXEMPLO ####\n",
    "x= [1, 5, 7]\n",
    "\n",
    "print ('2' not in x) # true porque 2 não está na variável \"x\"#"
   ],
   "id": "75cea3cb511625b2",
   "outputs": [],
   "execution_count": null
  },
  {
   "metadata": {},
   "cell_type": "code",
   "source": [
    "#### EXEMPLO ####\n",
    "nome= \"Lupita\"\n",
    "\n",
    "print ('a' not in nome) # false porque possui a letra \"a\" na variável nome que é Lupita #"
   ],
   "id": "652ef1ead9f7339b",
   "outputs": [],
   "execution_count": null
  },
  {
   "metadata": {},
   "cell_type": "code",
   "source": "",
   "id": "dfe74f099d4014a7",
   "outputs": [],
   "execution_count": null
  },
  {
   "metadata": {},
   "cell_type": "markdown",
   "source": "# **EXERCÍCIOS**",
   "id": "d15d709302b1ea60"
  },
  {
   "metadata": {},
   "cell_type": "markdown",
   "source": "#### **1- QUAL O RESULTADO DO CÓDIGO A SEGUIR?**",
   "id": "76ceda613f1d3e9c"
  },
  {
   "metadata": {},
   "cell_type": "code",
   "source": [
    "#### 1-RESOLVA ####\n",
    "#y= \"banana\"\n",
    "\n",
    "#print ('a' in y)"
   ],
   "id": "17d3b4c84ae136de",
   "outputs": [],
   "execution_count": null
  },
  {
   "metadata": {},
   "cell_type": "code",
   "source": "### ESCREVA A SUA RESPOSTA NA LINHA ABAIXO####\n",
   "id": "b679e227a11908db",
   "outputs": [],
   "execution_count": null
  },
  {
   "metadata": {},
   "cell_type": "code",
   "source": [
    "#### 1-GABARITO - EXECUTE O CODIGO DESSA CÉLULA ####\n",
    "y= \"banana\"\n",
    "\n",
    "print ('a' in y)"
   ],
   "id": "393d3f85f0f33086",
   "outputs": [],
   "execution_count": null
  },
  {
   "metadata": {},
   "cell_type": "markdown",
   "source": "#### **2- QUAL O RESULTADO DO CÓDIGO A SEGUIR?**",
   "id": "7434efbbe7fd5040"
  },
  {
   "metadata": {},
   "cell_type": "code",
   "source": [
    "#### 2- RESOLVA ####\n",
    "#w= [10, 30, 50]\n",
    "#z= 20\n",
    "\n",
    "#print (z is w)"
   ],
   "id": "52e47ff3ce5d3f46",
   "outputs": [],
   "execution_count": null
  },
  {
   "metadata": {},
   "cell_type": "code",
   "source": "#### ESCREVA A SUA RESPOSTA NA LINHA ABAIXO ####\n",
   "id": "a08de9b343ac06d0",
   "outputs": [],
   "execution_count": null
  },
  {
   "metadata": {},
   "cell_type": "code",
   "source": [
    "#### 2- GABARITO - EXECUTE ESSA CÉLULA ####\n",
    "w= [10, 30, 50]\n",
    "z= 20\n",
    "\n",
    "print (z is w)"
   ],
   "id": "a101534fd92bf886",
   "outputs": [],
   "execution_count": null
  },
  {
   "metadata": {},
   "cell_type": "markdown",
   "source": "#### **3- QUAL O RESULTADO DO CÓDIGO A SEGUIR?**",
   "id": "7076fa0ef73f5c53"
  },
  {
   "metadata": {},
   "cell_type": "code",
   "source": [
    "#### 3- RESOLVA ####\n",
    "#premiado= True\n",
    "\n",
    "#print (not premiado)"
   ],
   "id": "b881639ced090a6",
   "outputs": [],
   "execution_count": null
  },
  {
   "metadata": {},
   "cell_type": "code",
   "source": "#### ESCREVA A SUA RESPOSTA NA LINHA ABAIXO ####\n",
   "id": "29fadf2ec095e6a6",
   "outputs": [],
   "execution_count": null
  },
  {
   "metadata": {},
   "cell_type": "code",
   "source": [
    "#### 3- GABARITO - EXECUTE ESSA CÉLULA ####\n",
    "premiado= True\n",
    "\n",
    "print (not premiado)"
   ],
   "id": "730322a21b91de79",
   "outputs": [],
   "execution_count": null
  },
  {
   "metadata": {},
   "cell_type": "markdown",
   "source": "#### **4- QUAL O RESULTADO DO CÓDIGO A SEGUIR?**\n",
   "id": "c04298d66fb2b488"
  },
  {
   "metadata": {},
   "cell_type": "code",
   "source": [
    "#### 4- RESOLVA ####\n",
    "#a= [1, 2, 3, 4, 5]\n",
    "#b= a\n",
    "\n",
    "#print ( b is a)"
   ],
   "id": "222d644b50a1b11",
   "outputs": [],
   "execution_count": null
  },
  {
   "metadata": {},
   "cell_type": "code",
   "source": "#### 4- ESCREVA A SUA RESPOSTA NA LINHA ABAIXO ####\n",
   "id": "99a27a3dac103b43",
   "outputs": [],
   "execution_count": null
  },
  {
   "metadata": {},
   "cell_type": "code",
   "source": [
    "#### 4- GABARITO - EXECUTE ESSA CÉLULA ####\n",
    "a= [1, 2, 3, 4, 5]\n",
    "b= a\n",
    "\n",
    "print (a is b)\n"
   ],
   "id": "40e7ad8ce6ad3037",
   "outputs": [],
   "execution_count": null
  },
  {
   "metadata": {},
   "cell_type": "markdown",
   "source": "#### **5- QUAL O RESULTADO DO CÓDIGO A SEGUIR?**",
   "id": "2372e70c85dc1842"
  },
  {
   "metadata": {},
   "cell_type": "code",
   "outputs": [],
   "execution_count": null,
   "source": [
    "#### 5- RESOLVA ####\n",
    "#doguinho= \"Lupita\"\n",
    "\n",
    "#print (\"1 letra a\" not in doguinho)"
   ],
   "id": "6408006198076e88"
  },
  {
   "metadata": {
    "ExecuteTime": {
     "end_time": "2025-08-31T23:12:14.208155Z",
     "start_time": "2025-08-31T23:12:14.203848Z"
    }
   },
   "cell_type": "code",
   "source": "#### 5- ESCREVA A SUA RESPOSTA NA LINHA ABAIXO ####\n",
   "id": "d354d2da45e4b5b6",
   "outputs": [],
   "execution_count": 13
  },
  {
   "metadata": {
    "ExecuteTime": {
     "end_time": "2025-08-31T23:17:45.420622Z",
     "start_time": "2025-08-31T23:17:45.417429Z"
    }
   },
   "cell_type": "code",
   "source": [
    "#### 5- GABARITO - EXECUTE ESSA CÉLULA ####\n",
    "doguinho=  \"Lupita\"\n",
    "\n",
    "print (\"1 letra a\" not in doguinho)"
   ],
   "id": "e5765023fc42e5de",
   "outputs": [
    {
     "name": "stdout",
     "output_type": "stream",
     "text": [
      "True\n"
     ]
    }
   ],
   "execution_count": 18
  },
  {
   "metadata": {},
   "cell_type": "markdown",
   "source": "#### **6- QUAL O RESULTADO DO CÓDIGO A SEGUIR?**",
   "id": "1c544b449948368a"
  },
  {
   "metadata": {
    "ExecuteTime": {
     "end_time": "2025-08-31T23:20:23.328630Z",
     "start_time": "2025-08-31T23:20:23.324794Z"
    }
   },
   "cell_type": "code",
   "source": [
    "#### 6- RESOLVA ####\n",
    "#miojo= \"janta\"\n",
    "#comida= \"miojo e macarrão\"\n",
    "\n",
    "#print (miojo is not comida)"
   ],
   "id": "306b5f8833b02b8f",
   "outputs": [],
   "execution_count": 19
  },
  {
   "metadata": {
    "ExecuteTime": {
     "end_time": "2025-08-31T23:22:04.829209Z",
     "start_time": "2025-08-31T23:22:04.825966Z"
    }
   },
   "cell_type": "code",
   "source": "#### 6- ESCREVA A SUA RESPOSTA NA LINHA ABAIXO ####\n",
   "id": "2066daedd587c62a",
   "outputs": [],
   "execution_count": 20
  },
  {
   "metadata": {
    "ExecuteTime": {
     "end_time": "2025-08-31T23:23:47.749608Z",
     "start_time": "2025-08-31T23:23:47.744677Z"
    }
   },
   "cell_type": "code",
   "source": [
    "#### 6- GABARITO - EXECUTE ESSA CÉLULA ####\n",
    "miojo = \"janta\"\n",
    "comida= \"miojo e macarrão\"\n",
    "\n",
    "print (miojo is not comida)"
   ],
   "id": "537d6c6557042a0",
   "outputs": [
    {
     "name": "stdout",
     "output_type": "stream",
     "text": [
      "True\n"
     ]
    }
   ],
   "execution_count": 22
  },
  {
   "metadata": {},
   "cell_type": "markdown",
   "source": "#### **7- QUAL O RESULTADO DO CÓDIGO A SEGUIR?**\n",
   "id": "f4bda1032d6459b9"
  },
  {
   "metadata": {
    "ExecuteTime": {
     "end_time": "2025-08-31T23:27:21.524861Z",
     "start_time": "2025-08-31T23:27:21.521284Z"
    }
   },
   "cell_type": "code",
   "source": [
    "#### 7- RESOLVA ####\n",
    "#t= 777\n",
    "#z= 888\n",
    "#d= 1000\n",
    "\n",
    "#print (t < z or t > d)"
   ],
   "id": "e22d7ff25b2f54c9",
   "outputs": [],
   "execution_count": 23
  },
  {
   "metadata": {
    "ExecuteTime": {
     "end_time": "2025-08-31T23:27:39.918250Z",
     "start_time": "2025-08-31T23:27:39.914952Z"
    }
   },
   "cell_type": "code",
   "source": "#### 7- ESCREVA A SUA RESPOSTA NA LINHA ABAIXO ####\n",
   "id": "c0a32c26a990c76d",
   "outputs": [],
   "execution_count": 24
  },
  {
   "metadata": {
    "ExecuteTime": {
     "end_time": "2025-08-31T23:28:25.172849Z",
     "start_time": "2025-08-31T23:28:25.169058Z"
    }
   },
   "cell_type": "code",
   "source": [
    "#### 7- GABARITO - EXECUTE ESSA CÉLULA ####\n",
    "t= 777\n",
    "z= 888\n",
    "d= 1000\n",
    "\n",
    "print (t < z or t > d)"
   ],
   "id": "975f14a91c2f6c8",
   "outputs": [
    {
     "name": "stdout",
     "output_type": "stream",
     "text": [
      "True\n"
     ]
    }
   ],
   "execution_count": 25
  },
  {
   "metadata": {},
   "cell_type": "markdown",
   "source": "#### **8- QUAL O RESULTADO DO CÓDIGO A SEGUIR?**",
   "id": "7241e4c2db923d50"
  },
  {
   "metadata": {
    "ExecuteTime": {
     "end_time": "2025-08-31T23:30:35.557082Z",
     "start_time": "2025-08-31T23:30:35.554154Z"
    }
   },
   "cell_type": "code",
   "source": [
    "#### 8- RESOLVA ####\n",
    "#t= 777\n",
    "#z= 888\n",
    "#d= 1000\n",
    "\n",
    "#print (t < z and d < z)"
   ],
   "id": "3828666ea2db77cd",
   "outputs": [],
   "execution_count": 26
  },
  {
   "metadata": {
    "ExecuteTime": {
     "end_time": "2025-08-31T23:30:56.587408Z",
     "start_time": "2025-08-31T23:30:56.582945Z"
    }
   },
   "cell_type": "code",
   "source": "#### 8- ESCREVA A SUA RESPOSTA NA LINHA ABAIXO ####\n",
   "id": "977e25a0e3785705",
   "outputs": [],
   "execution_count": 27
  },
  {
   "metadata": {
    "ExecuteTime": {
     "end_time": "2025-08-31T23:35:57.423056Z",
     "start_time": "2025-08-31T23:35:57.419419Z"
    }
   },
   "cell_type": "code",
   "source": [
    "#### 8- GABARITO - EXECUTE ESSA CÉLULA ####\n",
    "t= 777\n",
    "z= 888\n",
    "d= 1000\n",
    "\n",
    "print (t < z and d < z)"
   ],
   "id": "357a16700a76dd67",
   "outputs": [
    {
     "name": "stdout",
     "output_type": "stream",
     "text": [
      "False\n"
     ]
    }
   ],
   "execution_count": 31
  },
  {
   "metadata": {},
   "cell_type": "markdown",
   "source": "#### **9- QUAL O RESULTADO DO CÓDIGO A SEGUIR?**",
   "id": "5e101b43326b8715"
  },
  {
   "metadata": {},
   "cell_type": "code",
   "outputs": [],
   "execution_count": null,
   "source": [
    "#### 9- RESOLVA ####\n",
    "#t= 777\n",
    "#z= 888\n",
    "#d= 1000\n",
    "\n",
    "#print (d < t or t > z)"
   ],
   "id": "de614a8727d68136"
  },
  {
   "metadata": {
    "ExecuteTime": {
     "end_time": "2025-08-31T23:36:41.932526Z",
     "start_time": "2025-08-31T23:36:41.928301Z"
    }
   },
   "cell_type": "code",
   "source": "#### 9- ESCREVA A SUA RESPOSTA NA LINHA ABAIXO ####\n",
   "id": "792c1387c1482aee",
   "outputs": [],
   "execution_count": 32
  },
  {
   "metadata": {
    "ExecuteTime": {
     "end_time": "2025-08-31T23:37:23.476175Z",
     "start_time": "2025-08-31T23:37:23.472180Z"
    }
   },
   "cell_type": "code",
   "source": [
    "#### 9- GABARITO - EXECUTE ESSA CÉLULA ####\n",
    "t= 777\n",
    "z= 888\n",
    "d= 1000\n",
    "\n",
    "print (d < t or t > z)"
   ],
   "id": "230cacb7423e8fd1",
   "outputs": [
    {
     "name": "stdout",
     "output_type": "stream",
     "text": [
      "False\n"
     ]
    }
   ],
   "execution_count": 33
  },
  {
   "metadata": {},
   "cell_type": "markdown",
   "source": "#### **10- QUAL O RESULTADO DO CÓDIGO A SEGUIR?**",
   "id": "cc7afc60bf105aff"
  },
  {
   "metadata": {
    "ExecuteTime": {
     "end_time": "2025-08-31T23:39:15.808589Z",
     "start_time": "2025-08-31T23:39:15.804183Z"
    }
   },
   "cell_type": "code",
   "source": [
    "#### 10- RESOLVA ####\n",
    "#palavra= \"paralelepípedo\"\n",
    "\n",
    "#print (\"i\"in palavra)"
   ],
   "id": "994353ce870ec21a",
   "outputs": [],
   "execution_count": 35
  },
  {
   "metadata": {
    "ExecuteTime": {
     "end_time": "2025-08-31T23:39:33.723342Z",
     "start_time": "2025-08-31T23:39:33.720993Z"
    }
   },
   "cell_type": "code",
   "source": "#### 10- ESCREVA A SUA RESPOSTA NA LINHA ABAIXO ####\n",
   "id": "1251baa224168dd9",
   "outputs": [],
   "execution_count": 36
  },
  {
   "metadata": {
    "ExecuteTime": {
     "end_time": "2025-08-31T23:43:14.932486Z",
     "start_time": "2025-08-31T23:43:14.929628Z"
    }
   },
   "cell_type": "code",
   "source": [
    "#### 10- GABARITO - EXECUTE ESSA CÉLULA ####\n",
    "palavra= \"paralelepípedo\"\n",
    "\n",
    "print (\"i\" in palavra)"
   ],
   "id": "4658705fff784c88",
   "outputs": [
    {
     "name": "stdout",
     "output_type": "stream",
     "text": [
      "False\n"
     ]
    }
   ],
   "execution_count": 44
  },
  {
   "metadata": {},
   "cell_type": "markdown",
   "source": "#### **11- QUAL O RESULTADO DO CÓDIGO A SEGUIR?**",
   "id": "ad104c7b58280666"
  },
  {
   "metadata": {
    "ExecuteTime": {
     "end_time": "2025-08-31T23:42:18.282878Z",
     "start_time": "2025-08-31T23:42:18.278703Z"
    }
   },
   "cell_type": "code",
   "source": [
    "#### 11- RESOLVA ####\n",
    "#palavra = \"paralelepípedo\"\n",
    "\n",
    "#print (\"í\"in palavra)"
   ],
   "id": "906507cb2b9f2bfe",
   "outputs": [],
   "execution_count": 41
  },
  {
   "metadata": {
    "ExecuteTime": {
     "end_time": "2025-08-31T23:42:31.172849Z",
     "start_time": "2025-08-31T23:42:31.168063Z"
    }
   },
   "cell_type": "code",
   "source": "#### 11- ESCREVA A SUA RESPOSTA NA LINHA ABAIXO ####\n",
   "id": "d060dc142320ce19",
   "outputs": [],
   "execution_count": 42
  },
  {
   "metadata": {
    "ExecuteTime": {
     "end_time": "2025-08-31T23:43:11.265913Z",
     "start_time": "2025-08-31T23:43:11.258979Z"
    }
   },
   "cell_type": "code",
   "source": [
    "#### 11- GABARITO - EXECUTE ESSA CÉLULA ####\n",
    "palavra= \"paralelepípedo\"\n",
    "\n",
    "print (\"í\" in palavra)"
   ],
   "id": "a3892acce6cd1dc8",
   "outputs": [
    {
     "name": "stdout",
     "output_type": "stream",
     "text": [
      "True\n"
     ]
    }
   ],
   "execution_count": 43
  }
 ],
 "metadata": {},
 "nbformat": 4,
 "nbformat_minor": 5
}
