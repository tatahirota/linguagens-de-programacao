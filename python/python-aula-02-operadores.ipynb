{
 "cells": [
  {
   "metadata": {},
   "cell_type": "markdown",
   "source": "# **PYTHON-AULA-02 feito por THAIANNA ;)**",
   "id": "f6e67ce6ab4aa94e"
  },
  {
   "metadata": {},
   "cell_type": "markdown",
   "source": "# **1- OPERADORES LÓGICOS**",
   "id": "2370449c7b11241a"
  },
  {
   "metadata": {},
   "cell_type": "markdown",
   "source": [
    "São utilizados para juntar condições, sejam verdadeiras ou falsas, e tomar decisões.\n",
    "Sempre retornarão um resultado **true** ou **false**.\n",
    "Os três principais operadores lógicos em Python são: **and**, **or** e **not**."
   ],
   "id": "7b232f0ddc858b77"
  },
  {
   "metadata": {},
   "cell_type": "markdown",
   "source": "### **1.1- AND**",
   "id": "7835d8324811cfaa"
  },
  {
   "metadata": {},
   "cell_type": "markdown",
   "source": [
    "Só será **true** se tudo for true.\n",
    "O \"AND\" equivale ao \"E\", em português.\n"
   ],
   "id": "65a80c9c71333277"
  },
  {
   "metadata": {},
   "cell_type": "code",
   "source": [
    "from operator import truediv\n",
    "\n",
    "#### EXEMPLO ####\n",
    "x= 7\n",
    "print (x > 1 and x < 8) # x maior que 1 e menor do que 8 = verdadeiro"
   ],
   "id": "2839f44aed79f291",
   "outputs": [],
   "execution_count": null
  },
  {
   "metadata": {},
   "cell_type": "code",
   "source": [
    "#### EXEMPLO ####\n",
    "x= 7\n",
    "print (x > 5 and x < 6) # x maior que 5 (true) e menor do que 6 (false), então será false #"
   ],
   "id": "420c9668a1c42efc",
   "outputs": [],
   "execution_count": null
  },
  {
   "metadata": {},
   "cell_type": "code",
   "source": [
    "#### EXEMPLO ####\n",
    "idade= 20\n",
    "temCarteira = True\n",
    "\n",
    "#### VERIFICA SE É MAIOR DE 18 E TEM CARTEIRA ####\n",
    "print (idade >= 18 and temCarteira)"
   ],
   "id": "39e513a364fa7bae",
   "outputs": [],
   "execution_count": null
  },
  {
   "metadata": {},
   "cell_type": "code",
   "source": [
    "#### EXEMPLO ####\n",
    "idade= 20\n",
    "temCarteira = False\n",
    "\n",
    "#### VERIFICA SE É MAIOR DE 18 E TEM CARTEIRA ####\n",
    "print (idade >= 18 and temCarteira)  # tem 18+ mas não tem carteira  então dá false #"
   ],
   "id": "794c3827a3cfa1d2",
   "outputs": [],
   "execution_count": null
  },
  {
   "metadata": {},
   "cell_type": "markdown",
   "source": "### **1.2- OR**",
   "id": "84fe89631a27b161"
  },
  {
   "metadata": {},
   "cell_type": "markdown",
   "source": [
    "Pelo menos, umas das condições tem que ser **true**.\n",
    "\"OR\"equivale a \"OU\", em português."
   ],
   "id": "2bb6db8d21b325a0"
  },
  {
   "metadata": {},
   "cell_type": "code",
   "source": [
    "#### EXEMPLO ####\n",
    "x= 7\n",
    "print (x > 2 or x < 3) # x maior que 2 (true) e menor que 3 (false), então dá  true #"
   ],
   "id": "678e832eca8265c7",
   "outputs": [],
   "execution_count": null
  },
  {
   "metadata": {},
   "cell_type": "code",
   "source": [
    "#### EXEMPLO ####\n",
    "x= 7\n",
    "print (x < 2 or x < 3) # x menor que 2 (false) ou x maior que 3 (false), então dá false #"
   ],
   "id": "c26189acf5dd7efc",
   "outputs": [],
   "execution_count": null
  },
  {
   "metadata": {},
   "cell_type": "code",
   "source": [
    "### EXEMPLO ####\n",
    "temFome= False\n",
    "temSede= True\n",
    "\n",
    "print (temFome or temSede)  #só será false se os dois forem false, então é true #"
   ],
   "id": "a8dc34dc558686f",
   "outputs": [],
   "execution_count": null
  },
  {
   "metadata": {},
   "cell_type": "code",
   "source": [
    "### EXEMPLO ####\n",
    "temFome= False\n",
    "temSede= False\n",
    "\n",
    "print (temFome or temSede)  #só será false se os dois forem false, então é false #"
   ],
   "id": "d981cafc6b4d5cf5",
   "outputs": [],
   "execution_count": null
  },
  {
   "metadata": {},
   "cell_type": "markdown",
   "source": "### **1.3- NOT**",
   "id": "7b6b8a7424d3f804"
  },
  {
   "metadata": {},
   "cell_type": "markdown",
   "source": [
    "Inverte o resultado lógico.\n",
    "Se for **true**, vira **false**, e vice-versa."
   ],
   "id": "9c4eb907b75f1365"
  },
  {
   "metadata": {},
   "cell_type": "code",
   "source": [
    "#### EXEMPLO ####\n",
    "x= 7\n",
    "\n",
    "print (not x > 2 ) # x maior que 2 dá true, mas ele inverteu e ficou false #"
   ],
   "id": "9a967e6098e0acdd",
   "outputs": [],
   "execution_count": null
  },
  {
   "metadata": {},
   "cell_type": "code",
   "source": [
    "#### EXEMPLO ####\n",
    "x= 7\n",
    "\n",
    "print (not x < 2) # x menor que 2 dá false, mas ele inverteu e ficou true #"
   ],
   "id": "dcd9d66be7990b90",
   "outputs": [],
   "execution_count": null
  },
  {
   "metadata": {},
   "cell_type": "code",
   "source": [
    "#### EXEMPLO ####\n",
    "estaChovendo= True\n",
    "\n",
    "print (not estaChovendo) # seria true, mas ele vai inverter e então será false #\n"
   ],
   "id": "64a88962ce339843",
   "outputs": [],
   "execution_count": null
  },
  {
   "metadata": {},
   "cell_type": "code",
   "source": [
    "#### EXEMPLO ####\n",
    "estaChovendo= False\n",
    "\n",
    "print (not estaChovendo) # seria false, mas ele vai inverter e então será true #"
   ],
   "id": "ad40cc341bda9742",
   "outputs": [],
   "execution_count": null
  },
  {
   "metadata": {},
   "cell_type": "markdown",
   "source": "# **2- OPERADORES DE IDENTIDADE**",
   "id": "489ce0a537fb9c89"
  },
  {
   "metadata": {},
   "cell_type": "markdown",
   "source": [
    "Comparam os objetos.\n",
    "Eles são: **is** e **is not**.\n",
    "Resultam apenas **true** ou **false**."
   ],
   "id": "ce10881197be6ee"
  },
  {
   "metadata": {},
   "cell_type": "markdown",
   "source": "### **2.1- IS**",
   "id": "3b4c141b205030f5"
  },
  {
   "metadata": {},
   "cell_type": "markdown",
   "source": "Significa \"é\", basicamente.",
   "id": "886be7c4cc971a52"
  },
  {
   "metadata": {},
   "cell_type": "code",
   "source": [
    "#### EXEMPLO ####\n",
    "a= [1, 2, 3]\n",
    "b= a\n",
    "\n",
    "print (a is b) # falei que b é igual a todos os valores de a, então retornou true #"
   ],
   "id": "c34a11acc10b4413",
   "outputs": [],
   "execution_count": null
  },
  {
   "metadata": {},
   "cell_type": "code",
   "source": [
    "#### EXEMPLO ####\n",
    "a= [1, 2, 3]\n",
    "b= 3\n",
    "\n",
    "print (a is b) # falei que b é igual a 3, e que a é igual a b. false porque a é 1,2,3 #"
   ],
   "id": "15aa7dc01ae89c3e",
   "outputs": [],
   "execution_count": null
  },
  {
   "metadata": {},
   "cell_type": "markdown",
   "source": "### **2.2- IS NOT**",
   "id": "8249bdb13311e8fc"
  },
  {
   "metadata": {},
   "cell_type": "markdown",
   "source": "Significa \"não é\", basicamente.",
   "id": "8af2bd88e9378053"
  },
  {
   "metadata": {
    "ExecuteTime": {
     "end_time": "2025-08-31T13:18:53.042092Z",
     "start_time": "2025-08-31T13:18:53.037362Z"
    }
   },
   "cell_type": "code",
   "source": [
    "#### EXEMPLO #####\n",
    "a= [1, 2, 3]\n",
    "b= 3\n",
    "\n",
    "print (a is not b) # falei que b é igual a 3, e que a náo é igual a b. True porque a é 1,2,3 ####\n"
   ],
   "id": "91e1f11d4772852f",
   "outputs": [
    {
     "name": "stdout",
     "output_type": "stream",
     "text": [
      "True\n"
     ]
    }
   ],
   "execution_count": 1
  },
  {
   "metadata": {},
   "cell_type": "code",
   "source": [
    "### **2.1- IS**\n",
    "#### EXEMPLO ####\n",
    "a = [1, 2, 3]\n",
    "b = a\n",
    "\n",
    "print(a is not b)  # falei que b não é igual a todos os valores de a, então retornou false #"
   ],
   "id": "dea10d9be3e2c758",
   "outputs": [],
   "execution_count": null
  },
  {
   "metadata": {},
   "cell_type": "markdown",
   "source": "# **3- OPERADORES DE ASSOCIAÇÃO**",
   "id": "fbc5d9e9d9d17ede"
  },
  {
   "metadata": {},
   "cell_type": "markdown",
   "source": [
    "Verifica se algo dentro da condição está igual.\n",
    "Retorna apenas **true** ou **false**."
   ],
   "id": "e36d87945972ec91"
  },
  {
   "metadata": {},
   "cell_type": "markdown",
   "source": "### **3.1- IN**",
   "id": "38ad8ce0f94057da"
  },
  {
   "metadata": {},
   "cell_type": "markdown",
   "source": "Significa \"está em\", basicamente.",
   "id": "171fa04c9de57c40"
  },
  {
   "metadata": {},
   "cell_type": "code",
   "source": [
    "#### EXEMPLO ####\n",
    "nome= \"Lupita\"\n",
    "\n",
    "print ('a' in nome) # true porque possui a letra \"a\" na variável nome que é Lupita #"
   ],
   "id": "a0605617e041ccdc",
   "outputs": [],
   "execution_count": null
  },
  {
   "metadata": {},
   "cell_type": "code",
   "source": [
    "#### EXEMPLO ####\n",
    "x= [1, 5, 7]\n",
    "\n",
    "print ('2'in x) # false porque 2 não possui na variável \"x\"#"
   ],
   "id": "6a9a21db77cae483",
   "outputs": [],
   "execution_count": null
  },
  {
   "metadata": {},
   "cell_type": "markdown",
   "source": "### **3.2- NOT IN**",
   "id": "b735412cb444c1a9"
  },
  {
   "metadata": {},
   "cell_type": "markdown",
   "source": "Significa \"não está em\", basicamente.",
   "id": "20d4ecb059adf701"
  },
  {
   "metadata": {},
   "cell_type": "code",
   "source": [
    "#### EXEMPLO ####\n",
    "x= [1, 5, 7]\n",
    "\n",
    "print ('2' not in x) # true porque 2 não está na variável \"x\"#"
   ],
   "id": "75cea3cb511625b2",
   "outputs": [],
   "execution_count": null
  },
  {
   "metadata": {},
   "cell_type": "code",
   "source": [
    "#### EXEMPLO ####\n",
    "nome= \"Lupita\"\n",
    "\n",
    "print ('a' not in nome) # false porque possui a letra \"a\" na variável nome que é Lupita #"
   ],
   "id": "652ef1ead9f7339b",
   "outputs": [],
   "execution_count": null
  },
  {
   "metadata": {},
   "cell_type": "code",
   "source": "",
   "id": "dfe74f099d4014a7",
   "outputs": [],
   "execution_count": null
  },
  {
   "metadata": {},
   "cell_type": "markdown",
   "source": "# **EXERCÍCIOS**",
   "id": "d15d709302b1ea60"
  },
  {
   "metadata": {},
   "cell_type": "markdown",
   "source": "#### **1- QUAL O RESULTADO DO CÓDIGO A SEGUIR?**",
   "id": "76ceda613f1d3e9c"
  },
  {
   "metadata": {},
   "cell_type": "code",
   "source": [
    "#### 1-RESOLVA ####\n",
    "#y= \"banana\"\n",
    "\n",
    "#print ('a' in y)"
   ],
   "id": "17d3b4c84ae136de",
   "outputs": [],
   "execution_count": null
  },
  {
   "metadata": {},
   "cell_type": "code",
   "source": "### ESCREVA A RESPOSTA ####\n",
   "id": "b679e227a11908db",
   "outputs": [],
   "execution_count": null
  },
  {
   "metadata": {
    "ExecuteTime": {
     "end_time": "2025-08-04T00:23:59.431140Z",
     "start_time": "2025-08-04T00:23:59.428217Z"
    }
   },
   "cell_type": "code",
   "source": [
    "#### 1-GABARITO - EXECUTE O CODIGO DESSA CÉLULA ####\n",
    "y= \"banana\"\n",
    "\n",
    "print ('a' in y)"
   ],
   "id": "393d3f85f0f33086",
   "outputs": [
    {
     "name": "stdout",
     "output_type": "stream",
     "text": [
      "True\n"
     ]
    }
   ],
   "execution_count": 24
  },
  {
   "metadata": {},
   "cell_type": "markdown",
   "source": "#### **2- QUAL O RESULTADO DO CÓDIGO A SEGUIR?**",
   "id": "7434efbbe7fd5040"
  },
  {
   "metadata": {},
   "cell_type": "code",
   "source": [
    "#### 2- RESOLVA ####\n",
    "#w= [10, 30, 50]\n",
    "#z= 20\n",
    "\n",
    "#print (z is w)"
   ],
   "id": "52e47ff3ce5d3f46",
   "outputs": [],
   "execution_count": null
  },
  {
   "metadata": {
    "ExecuteTime": {
     "end_time": "2025-08-04T00:23:17.268084Z",
     "start_time": "2025-08-04T00:23:17.263717Z"
    }
   },
   "cell_type": "code",
   "source": "#### ESCREVA A RESPOSTA ####\n",
   "id": "a08de9b343ac06d0",
   "outputs": [],
   "execution_count": 23
  },
  {
   "metadata": {},
   "cell_type": "code",
   "outputs": [],
   "execution_count": null,
   "source": [
    "#### GABARITO - EXECUTE ESSA CÉLULA ####\n",
    "#w= [10, 30, 50]\n",
    "#z= 20\n",
    "\n",
    "#print (z is w)"
   ],
   "id": "a101534fd92bf886"
  }
 ],
 "metadata": {},
 "nbformat": 4,
 "nbformat_minor": 5
}
