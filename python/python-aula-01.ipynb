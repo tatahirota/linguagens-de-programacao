{
 "cells": [
  {
   "metadata": {},
   "cell_type": "markdown",
   "source": "# **PYTHON-AULA-01 feito por THAIANNA ;)**",
   "id": "8a77807f92f26ee"
  },
  {
   "metadata": {},
   "cell_type": "markdown",
   "source": "# **1- COMENTÁRIOS NO CÓDIGO**",
   "id": "6065dd9b99150da3"
  },
  {
   "metadata": {
    "ExecuteTime": {
     "end_time": "2025-08-31T13:12:48.989806Z",
     "start_time": "2025-08-31T13:12:48.985829Z"
    }
   },
   "cell_type": "code",
   "source": [
    "# Ao colocar \"hashtag\"/ \"jogo da velha\", ele vira apenas comentário e não irá afetar o código.\n",
    "# Eu gosto de enfeitar bem com hashtag, colocando tanto no início, quanto no fim.\n",
    "# EU utilizo os comentários pra organizar o código, explicar algo.\n",
    "\n",
    "\n",
    "#### EXEMPLO ####"
   ],
   "id": "a68b2eb87905781c",
   "outputs": [],
   "execution_count": 1
  },
  {
   "metadata": {},
   "cell_type": "markdown",
   "source": "# **2- IMPRIMIR UM TEXTO**",
   "id": "2b2207fb6c6321b3"
  },
  {
   "metadata": {},
   "cell_type": "code",
   "source": [
    "#### IMPRIMINDO UM TEXTO/ STRING ####\n",
    "print (\"Olá, Pipas!\") #### print (\"Texto que você quiser!\")"
   ],
   "id": "81e18cecd7c225a1",
   "outputs": [],
   "execution_count": null
  },
  {
   "metadata": {},
   "cell_type": "markdown",
   "source": "# **3- CRIANDO UMA VARIÁVEL E IMPRIMINDO-A**",
   "id": "9b261d8697f927d9"
  },
  {
   "metadata": {},
   "cell_type": "markdown",
   "source": [
    "Variáveis são nomes que daremos a determinados valores.\n",
    "Exemplo:\n",
    "O meu nome é Lupita, então quero criar uma variável: nome = \"Lupita\"  # entre aspas porque é uma String. Iremos falar posteriormente sobre isso #\n",
    "\n",
    "Em Python, as variáveis tem que iniciar por letras ou alguns caracteres especiais. Elas não podem ser iniciadas por números."
   ],
   "id": "7dca5bb02b7ca02"
  },
  {
   "metadata": {},
   "cell_type": "code",
   "source": [
    "dois = 2\n",
    "print (dois)"
   ],
   "id": "885f47e6b2422ace",
   "outputs": [],
   "execution_count": null
  },
  {
   "metadata": {},
   "cell_type": "code",
   "source": [
    "Dois = 2\n",
    "print (Dois)"
   ],
   "id": "15d4db6fe7a93fd7",
   "outputs": [],
   "execution_count": null
  },
  {
   "metadata": {},
   "cell_type": "code",
   "source": [
    "_Dois = 2\n",
    "print (_Dois)"
   ],
   "id": "5eaee2769f12d6c",
   "outputs": [],
   "execution_count": null
  },
  {
   "metadata": {},
   "cell_type": "code",
   "source": [
    "#### CRIANDO UMA VARIÁVEL E IMPRIMINDO-A ####\n",
    "nome= \"Lupita\"\n",
    "print (nome)"
   ],
   "id": "37a594a38138e20",
   "outputs": [],
   "execution_count": null
  },
  {
   "metadata": {},
   "cell_type": "code",
   "source": [
    "#### CRIANDO UMA VARIÁVEL E IMPRIMINDO-A ####\n",
    "minhaIdade= 5 #### variável minhaIdade, no valor de 5. No caso, tenho 5 anos de idade, teoricamente.\n",
    "print (minhaIdade)"
   ],
   "id": "9dde4e8c2d95240",
   "outputs": [],
   "execution_count": null
  },
  {
   "metadata": {},
   "cell_type": "markdown",
   "source": "# **4- VALORES**",
   "id": "292f34cc125c46d7"
  },
  {
   "metadata": {},
   "cell_type": "markdown",
   "source": [
    "Valor é um texto ou um número dado a determinada variável.\n",
    "Exemplo:\n",
    "corFavorita (variável) = \"verde\" (valor da variável)"
   ],
   "id": "2762edd1224980c3"
  },
  {
   "metadata": {},
   "cell_type": "markdown",
   "source": "####     **4.1- TIPOS DE VALORES**\n",
   "id": "57796be2544ca1b9"
  },
  {
   "metadata": {},
   "cell_type": "markdown",
   "source": [
    "#### 4.1.1- INTEIROS\n",
    "1\n",
    "2\n",
    "3\n",
    "44\n",
    "1000000000000"
   ],
   "id": "65863978ddac1382"
  },
  {
   "metadata": {},
   "cell_type": "markdown",
   "source": [
    "#### 4.1.2- FLOAT\n",
    "1.20\n",
    "3.14\n",
    "555.4\n",
    "7.77"
   ],
   "id": "1e266d0a21cd2805"
  },
  {
   "metadata": {},
   "cell_type": "markdown",
   "source": [
    "#### 4.1.3- STRING\n",
    "Strings são textos e devem ficar sempre entre aspas."
   ],
   "id": "8e129980ee2fa57c"
  },
  {
   "metadata": {},
   "cell_type": "markdown",
   "source": [
    "#### 4.1.4- BOOLEANO\n",
    "Apenas definidos como \"true\" ou \"false\"\n",
    "\n",
    "Exemplos:\n",
    " 1 = 1  true\n",
    " 1 > 2  false"
   ],
   "id": "cdc30c5803a68cf1"
  },
  {
   "metadata": {},
   "cell_type": "markdown",
   "source": "# **5- IMPRIMINDO UM TEXTO JUNTO A UMA VARIÁVEL**",
   "id": "537145a1734bc352"
  },
  {
   "metadata": {},
   "cell_type": "code",
   "source": [
    "#### IMPRIMINDO UM TEXTO JUNTAMENTE COM A MINHA VARIÁVEL ####\n",
    "minhaIdade = 5\n",
    "print (f\"Eu tenho {minhaIdade} anos.\") ### quando eu coloco a variável junto, tenho de colocá-la entre colchetes ####"
   ],
   "id": "12d55e99b39f282c",
   "outputs": [],
   "execution_count": null
  },
  {
   "metadata": {},
   "cell_type": "markdown",
   "source": "# **6- OPERADORES MATEMÁTICOS**",
   "id": "1bce4d31ac49af1e"
  },
  {
   "metadata": {},
   "cell_type": "markdown",
   "source": "### 6.1- ADIÇÃO",
   "id": "b76c5f3bcef9aa6a"
  },
  {
   "metadata": {},
   "cell_type": "code",
   "source": "5 + 2",
   "id": "ef054e1c66721e87",
   "outputs": [],
   "execution_count": null
  },
  {
   "metadata": {
    "ExecuteTime": {
     "end_time": "2025-08-31T13:14:05.687829Z",
     "start_time": "2025-08-31T13:14:05.682289Z"
    }
   },
   "cell_type": "code",
   "source": [
    "# VARIÁVEIS #\n",
    "minhaIdade = 5\n",
    "idadeLupita = 2\n",
    "soma= minhaIdade + idadeLupita\n",
    "\n",
    "# IMPRIMINDO AS OPERAÇÕES MATEMÁTICAS ACIMA #\n",
    "print (\"ENSINAMENTO SOBRE SOMA: \") ## apenas enfeite\n",
    "print (soma) # imprimi a variável soma que é a minhaIdade (5) mais a idadeLupita (2), que deu 7.##\n",
    "print (f\"A minha idade, que é {minhaIdade}, mais a idade da Lupita, que é {idadeLupita}, deu {soma}.\\n\") # ao colocarmos mais de uma variável junto com o texto, devemos por o f antes de começar o texto e as variáveis. O \\n É PRA QUEBRA DE LINHA ##"
   ],
   "id": "157268c1c213616b",
   "outputs": [
    {
     "name": "stdout",
     "output_type": "stream",
     "text": [
      "ENSINAMENTO SOBRE SOMA: \n",
      "7\n",
      "A minha idade, que é 5, mais a idade da Lupita, que é 2, deu 7.\n",
      "\n"
     ]
    }
   ],
   "execution_count": 2
  },
  {
   "metadata": {},
   "cell_type": "markdown",
   "source": "### 6.2- SUBTRAÇÃO",
   "id": "d7b7ce24f382bbba"
  },
  {
   "metadata": {},
   "cell_type": "code",
   "source": "5 - 2",
   "id": "1a86837855c38db3",
   "outputs": [],
   "execution_count": null
  },
  {
   "metadata": {},
   "cell_type": "code",
   "source": [
    "# VARIÁVEIS #\n",
    "minhaIdade = 5\n",
    "idadeLupita = 2\n",
    "subtracao = minhaIdade - idadeLupita\n",
    "\n",
    "# IMPRIMINDO A OPERAÇÃO MATEMÁTICA ACIMA #\n",
    "print (\"ENSINAMENTO SOBRE SUBTRAÇÃO:\")\n",
    "print (subtracao) # imprimi a variável subtracao que é a minhaIdade menos a idadeLupita, e deu 3.##\n",
    "print (f\"A minha idade, que é {minhaIdade}, menos a idade da Lupita, que é {idadeLupita}, deu {subtracao}.\\n\") ## fiz igual na impressão da linha 14, porém utilizei a variável subtracao. ##"
   ],
   "id": "dc81b21969ec8199",
   "outputs": [],
   "execution_count": null
  },
  {
   "metadata": {},
   "cell_type": "markdown",
   "source": "### 6.3- MULTIPLICAÇÃO",
   "id": "e91dc96026be8a81"
  },
  {
   "metadata": {},
   "cell_type": "code",
   "source": "5*2",
   "id": "9776b81f6a8bf885",
   "outputs": [],
   "execution_count": null
  },
  {
   "metadata": {},
   "cell_type": "code",
   "source": [
    "# VARIÁVEIS #\n",
    "minhaIdade = 5\n",
    "idadeLupita = 2\n",
    "multiplicacao = minhaIdade * idadeLupita\n",
    "\n",
    "# IMPRIMINDO A OPERAÇÃO MATEMÁTICA ACIMA #\n",
    "print (\"ENSINAMENTO SOBRE MULTIPLICACAO:\")\n",
    "print (multiplicacao) ##\n",
    "print (f\"A minha idade, que é {minhaIdade}, multiplicada pela idade da Lupita, que é {idadeLupita}, deu {multiplicacao}.\\n\") ## idem linhas 14 e 16.##"
   ],
   "id": "a9193ec14d7c092e",
   "outputs": [],
   "execution_count": null
  },
  {
   "metadata": {},
   "cell_type": "markdown",
   "source": "### 6.4- DIVISÃO",
   "id": "d26fc167dcb10fa4"
  },
  {
   "metadata": {},
   "cell_type": "code",
   "source": "5/2",
   "id": "f002db07b44fd8c1",
   "outputs": [],
   "execution_count": null
  },
  {
   "metadata": {},
   "cell_type": "code",
   "source": [
    "# VARIÁVEIS #\n",
    "minhaIdade = 5\n",
    "idadeLupita = 2\n",
    "divisao = minhaIdade / idadeLupita\n",
    "\n",
    "# IMPRIMINDO A OPERAÇÃO MATEMÁTICA ACIMA #\n",
    "print (\"ENSINAMENTO SOBRE DIVISÃO:\")\n",
    "print (divisao)\n",
    "print (f\"A minha idade, que é {minhaIdade}, dividido pela idade da Lupita, que é {idadeLupita}, deu {divisao}.\\n\") ## idem linhas 14, 16 e 18. ##"
   ],
   "id": "93ae7befdf560a21",
   "outputs": [],
   "execution_count": null
  },
  {
   "metadata": {},
   "cell_type": "markdown",
   "source": "### 6.5- POTÊNCIA",
   "id": "2d3bb38da27a39e"
  },
  {
   "metadata": {},
   "cell_type": "code",
   "source": "5 ** 2",
   "id": "f1fe94f8fd282ade",
   "outputs": [],
   "execution_count": null
  },
  {
   "metadata": {},
   "cell_type": "code",
   "source": "5 ** 3",
   "id": "5d1ca4883d2a027d",
   "outputs": [],
   "execution_count": null
  },
  {
   "metadata": {},
   "cell_type": "code",
   "source": [
    "# VARIÁVEIS #\n",
    "minhaIdade = 5\n",
    "idadeLupita = 2\n",
    "potencia = minhaIdade ** idadeLupita\n",
    "\n",
    "# IMPRIMINDO A OPERAÇÃO MATEMÁTICA ACIMA #\n",
    "print (\"ENSINAMENTO SOBRE POTÊNCIA:\")\n",
    "print (potencia) ## imprimi a variável potencia, que é a minhaIdade (5) elevada a idadeLupita (2), ficando 5². ##\n",
    "print (f\"A minha idade, que é {minhaIdade}, elevada a idade da Lupita, que é {idadeLupita}, deu {potencia}.\\n\") ## idem linhas 14,16,18 e 20 ##"
   ],
   "id": "8d1ce72effd2ecdf",
   "outputs": [],
   "execution_count": null
  },
  {
   "metadata": {},
   "cell_type": "markdown",
   "source": "### 6.6- MÓDULO",
   "id": "21f8e6c37184308b"
  },
  {
   "metadata": {},
   "cell_type": "code",
   "source": "5 % 2",
   "id": "dfc6c2322cc8d649",
   "outputs": [],
   "execution_count": null
  },
  {
   "metadata": {},
   "cell_type": "code",
   "source": [
    "# VARIÁVEIS #\n",
    "minhaIdade = 5\n",
    "idadeLupita = 2\n",
    "modulo = minhaIdade % idadeLupita\n",
    "\n",
    "# IMPRIMINDO A OPERAÇÃO MATEMÁTICA ACIMA #\n",
    "print (\"ENSINAMENTO SOBRE MÓDULO:\")\n",
    "print (modulo) # imprimi o resto da divisão, que no caso, fica sem casas decimais. Ex: 2 para chegar a 5, multiplica por 2 e sobra 1. Esse 1 é o resultado."
   ],
   "id": "29b763b60ea83dff",
   "outputs": [],
   "execution_count": null
  },
  {
   "metadata": {},
   "cell_type": "markdown",
   "source": "# **7- OPERADORES COMPARATIVOS**",
   "id": "a1ba981a3dc31451"
  },
  {
   "metadata": {},
   "cell_type": "markdown",
   "source": [
    "### 7.1- IGUALDADE\n",
    "Onde os valores são iguais.\n",
    "\n",
    "Exemplo:\n",
    "1 = 1\n",
    "777 = 777"
   ],
   "id": "31521e9082756c56"
  },
  {
   "metadata": {},
   "cell_type": "code",
   "source": "1  == 1",
   "id": "a3912bbc3044d130",
   "outputs": [],
   "execution_count": null
  },
  {
   "metadata": {},
   "cell_type": "code",
   "source": "777 == 777",
   "id": "c89874d7583ae0e",
   "outputs": [],
   "execution_count": null
  },
  {
   "metadata": {},
   "cell_type": "code",
   "source": "1 == 777",
   "id": "1706455940c30632",
   "outputs": [],
   "execution_count": null
  },
  {
   "metadata": {},
   "cell_type": "code",
   "source": "print ( 1== 1)",
   "id": "db5ccb8be5d095db",
   "outputs": [],
   "execution_count": null
  },
  {
   "metadata": {},
   "cell_type": "code",
   "source": "print ( 777 == 777)",
   "id": "53b0efb17387be6b",
   "outputs": [],
   "execution_count": null
  },
  {
   "metadata": {},
   "cell_type": "markdown",
   "source": [
    "### 7.2- DIFERENTE\n",
    "Os valores são diferentes entre si.\n",
    "\n",
    "Exemplo:\n",
    "1 != 1\n",
    "1 != 777"
   ],
   "id": "6ca3cf7b73942ca2"
  },
  {
   "metadata": {},
   "cell_type": "code",
   "source": "1 != 1",
   "id": "715f4adf44efedcd",
   "outputs": [],
   "execution_count": null
  },
  {
   "metadata": {},
   "cell_type": "code",
   "source": "1 != 777",
   "id": "2f98f636b6561c4b",
   "outputs": [],
   "execution_count": null
  },
  {
   "metadata": {},
   "cell_type": "code",
   "source": "print ( 1!= 1)",
   "id": "1caa3f3f60f6c07d",
   "outputs": [],
   "execution_count": null
  },
  {
   "metadata": {},
   "cell_type": "code",
   "source": "print ( 1 != 777)",
   "id": "c27c2235b00f03ef",
   "outputs": [],
   "execution_count": null
  },
  {
   "metadata": {},
   "cell_type": "markdown",
   "source": [
    "### 7.3- MAIOR QUE\n",
    "Um valor é maior que o outro.\n",
    "\n",
    "Exemplo:\n",
    "2 > 1\n",
    "777 > 55"
   ],
   "id": "22b452bf5090a8d9"
  },
  {
   "metadata": {},
   "cell_type": "code",
   "source": "2 > 1",
   "id": "9554661072471e4b",
   "outputs": [],
   "execution_count": null
  },
  {
   "metadata": {},
   "cell_type": "code",
   "source": "42 > 777",
   "id": "81379b6adf637b88",
   "outputs": [],
   "execution_count": null
  },
  {
   "metadata": {},
   "cell_type": "code",
   "source": "print ( 2> 1)",
   "id": "d668c84f30783dbf",
   "outputs": [],
   "execution_count": null
  },
  {
   "metadata": {},
   "cell_type": "code",
   "source": "print ( 42 > 777)",
   "id": "ae3e72e247701945",
   "outputs": [],
   "execution_count": null
  },
  {
   "metadata": {},
   "cell_type": "markdown",
   "source": [
    "### 7.4- MENOR QUE\n",
    "Um valor é menor do que o outro.\n",
    "\n",
    "Exemplo:\n",
    "1 < 7\n",
    "13 < 24"
   ],
   "id": "2bc52b3dbaa1317f"
  },
  {
   "metadata": {},
   "cell_type": "code",
   "source": "1 < 7",
   "id": "15eaa11f608c9037",
   "outputs": [],
   "execution_count": null
  },
  {
   "metadata": {},
   "cell_type": "code",
   "source": "13 < 10",
   "id": "fd2d21f7731cbe91",
   "outputs": [],
   "execution_count": null
  },
  {
   "metadata": {},
   "cell_type": "code",
   "source": "print (1 < 7)",
   "id": "2dd32fbd4d97f42",
   "outputs": [],
   "execution_count": null
  },
  {
   "metadata": {},
   "cell_type": "code",
   "source": "print (13 < 10)",
   "id": "e3aea65106304cb0",
   "outputs": [],
   "execution_count": null
  },
  {
   "metadata": {},
   "cell_type": "markdown",
   "source": [
    "### 7.5- MAIOR OU IGUAL QUE\n",
    "Um valor é maior ou igual que o outro valor.\n",
    "\n",
    "Exemplo:\n",
    "7 >= 5\n",
    "777 >= 777"
   ],
   "id": "4d4f5eb54c036d2e"
  },
  {
   "metadata": {},
   "cell_type": "code",
   "source": "777 >= 777",
   "id": "474d8dcb67980b86",
   "outputs": [],
   "execution_count": null
  },
  {
   "metadata": {},
   "cell_type": "code",
   "source": "5 >= 7",
   "id": "ae9693df5cbae844",
   "outputs": [],
   "execution_count": null
  },
  {
   "metadata": {},
   "cell_type": "code",
   "source": "print (777 >= 777)",
   "id": "c48f31e52d4835cb",
   "outputs": [],
   "execution_count": null
  },
  {
   "metadata": {},
   "cell_type": "code",
   "source": "print (5 >= 7)",
   "id": "34041e0c1f5db6a6",
   "outputs": [],
   "execution_count": null
  },
  {
   "metadata": {},
   "cell_type": "markdown",
   "source": [
    "### 7.6- MENOR OU IGUAL QUE\n",
    "Quando um valor é menor ou igual ao outro valor.\n",
    "\n",
    "Exemplo:\n",
    "5 >= 2\n",
    "88 >= 88"
   ],
   "id": "80d5d245190d2b69"
  },
  {
   "metadata": {},
   "cell_type": "code",
   "source": "88 >= 88",
   "id": "7fb4957d37d88d3e",
   "outputs": [],
   "execution_count": null
  },
  {
   "metadata": {},
   "cell_type": "code",
   "source": "88 >= 87",
   "id": "6044fe2b62fde5be",
   "outputs": [],
   "execution_count": null
  },
  {
   "metadata": {},
   "cell_type": "code",
   "source": "88 >= 89",
   "id": "47a5d6fb0456af37",
   "outputs": [],
   "execution_count": null
  },
  {
   "metadata": {},
   "cell_type": "code",
   "source": "print (88 >= 87)",
   "id": "4fea81e3ba22ee0e",
   "outputs": [],
   "execution_count": null
  },
  {
   "metadata": {},
   "cell_type": "code",
   "source": "print (88 <= 89)",
   "id": "b5f7ef7d3bff62e6",
   "outputs": [],
   "execution_count": null
  },
  {
   "metadata": {},
   "cell_type": "markdown",
   "source": "# **EXERCÍCIO PARA TREINAR**",
   "id": "b2eadadd2a81150b"
  },
  {
   "metadata": {},
   "cell_type": "markdown",
   "source": "**1- Crie uma variável chamada \"nome\" com o valor \"Ana\" e imprima ela.**",
   "id": "f18a775a0e27a9cd"
  },
  {
   "metadata": {
    "ExecuteTime": {
     "end_time": "2025-08-03T22:29:24.426212Z",
     "start_time": "2025-08-03T22:29:24.421319Z"
    }
   },
   "cell_type": "code",
   "source": "## SUA RESPOSTA AQUI ##\n",
   "id": "4c97624a196c5973",
   "outputs": [],
   "execution_count": 1
  },
  {
   "metadata": {},
   "cell_type": "markdown",
   "source": "<----- APERTE CTRL+ENTER NA CÉLULA ABAIXO PARA VERIFICAR A CORREÇÃO ---->",
   "id": "6b3508a3a7e6432d"
  },
  {
   "metadata": {
    "ExecuteTime": {
     "end_time": "2025-08-03T22:29:27.544824Z",
     "start_time": "2025-08-03T22:29:27.540820Z"
    }
   },
   "cell_type": "code",
   "source": [
    "# Correção 1\n",
    "try:\n",
    "    assert nome == \"Ana\"\n",
    "    print(\"✅ A resposta está correta!\")\n",
    "except:\n",
    "    print(\"❌ A variável nome está errada. Tente novamente!\")"
   ],
   "id": "be31e181ba64014a",
   "outputs": [
    {
     "name": "stdout",
     "output_type": "stream",
     "text": [
      "❌ A variável nome está errada. Tente novamente!\n"
     ]
    }
   ],
   "execution_count": 2
  },
  {
   "metadata": {},
   "cell_type": "markdown",
   "source": "**2- Crie duas variáveis com números inteiros e imprima a soma delas.**",
   "id": "a53c21f32862b865"
  },
  {
   "metadata": {},
   "cell_type": "code",
   "outputs": [],
   "execution_count": null,
   "source": "",
   "id": "8218bad4346b96ca"
  }
 ],
 "metadata": {
  "kernelspec": {
   "display_name": "Python 3",
   "language": "python",
   "name": "python3"
  },
  "language_info": {
   "codemirror_mode": {
    "name": "ipython",
    "version": 2
   },
   "file_extension": ".py",
   "mimetype": "text/x-python",
   "name": "python",
   "nbconvert_exporter": "python",
   "pygments_lexer": "ipython2",
   "version": "2.7.6"
  }
 },
 "nbformat": 4,
 "nbformat_minor": 5
}
